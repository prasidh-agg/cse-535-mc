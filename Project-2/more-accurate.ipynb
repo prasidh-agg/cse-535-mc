{
  "cells": [
    {
      "cell_type": "code",
      "execution_count": null,
      "metadata": {
        "id": "nImr6z7TMBJQ",
        "outputId": "a540a504-bfb7-4d60-8cf4-22255d9da1d6",
        "colab": {
          "base_uri": "https://localhost:8080/"
        }
      },
      "outputs": [
        {
          "output_type": "stream",
          "name": "stdout",
          "text": [
            "2.9.2\n"
          ]
        }
      ],
      "source": [
        "import tensorflow as tf\n",
        "from tensorflow import keras\n",
        "\n",
        "import matplotlib.pyplot as plt\n",
        "import numpy as np\n",
        "import pandas as pd\n",
        "import random\n",
        "\n",
        "print(tf.__version__)"
      ]
    },
    {
      "cell_type": "markdown",
      "metadata": {
        "id": "Rivc81WyRpXG"
      },
      "source": [
        "Import MNIST dataset."
      ]
    },
    {
      "cell_type": "code",
      "execution_count": null,
      "metadata": {
        "id": "ZGd5hkioMpcr",
        "outputId": "70a4a052-42dc-49b3-9c4e-0968a650c6dc",
        "colab": {
          "base_uri": "https://localhost:8080/"
        }
      },
      "outputs": [
        {
          "output_type": "stream",
          "name": "stdout",
          "text": [
            "Downloading data from https://storage.googleapis.com/tensorflow/tf-keras-datasets/mnist.npz\n",
            "11490434/11490434 [==============================] - 0s 0us/step\n"
          ]
        }
      ],
      "source": [
        "mnist = keras.datasets.mnist\n",
        "(train_images, train_labels), (test_images, test_labels) = mnist.load_data()\n",
        "\n",
        "# Normalize test and train sets\n",
        "train_images = train_images / 255.0\n",
        "test_images = test_images / 255.0\n",
        "\n",
        "train_images = np.expand_dims(train_images, axis=3)\n",
        "test_images = np.expand_dims(test_images, axis=3)"
      ]
    },
    {
      "cell_type": "code",
      "execution_count": null,
      "metadata": {
        "id": "JjoUeI5WSE_H"
      },
      "outputs": [],
      "source": [
        "def create_model():\n",
        "  model = keras.Sequential([\n",
        "    keras.layers.InputLayer(input_shape=(28, 28, 1)),\n",
        "    keras.layers.Conv2D(filters=32, kernel_size=(3, 3), activation=tf.nn.relu),\n",
        "    keras.layers.Conv2D(filters=64, kernel_size=(3, 3), activation=tf.nn.relu),\n",
        "    keras.layers.MaxPooling2D(pool_size=(2, 2)),\n",
        "    keras.layers.Dropout(0.25),\n",
        "    keras.layers.Flatten(),\n",
        "    keras.layers.Dense(10, activation=tf.nn.softmax)\n",
        "  ])\n",
        "  model.compile(optimizer='adam',\n",
        "                loss='sparse_categorical_crossentropy',\n",
        "                metrics=['accuracy'])\n",
        "  return model"
      ]
    },
    {
      "cell_type": "markdown",
      "metadata": {
        "id": "QGgIJ4pYThkm"
      },
      "source": [
        "Confirm that our model can achieve above 98% accuracy on MNIST dataset."
      ]
    },
    {
      "cell_type": "code",
      "execution_count": null,
      "metadata": {
        "id": "W2cYWUbkTb8Q",
        "outputId": "53865042-ed1c-453c-905c-8a390787829c",
        "colab": {
          "base_uri": "https://localhost:8080/"
        }
      },
      "outputs": [
        {
          "output_type": "stream",
          "name": "stdout",
          "text": [
            "Epoch 1/5\n",
            "1875/1875 [==============================] - 19s 4ms/step - loss: 0.1391 - accuracy: 0.9575 - val_loss: 0.0476 - val_accuracy: 0.9845\n",
            "Epoch 2/5\n",
            "1875/1875 [==============================] - 7s 4ms/step - loss: 0.0528 - accuracy: 0.9840 - val_loss: 0.0373 - val_accuracy: 0.9886\n",
            "Epoch 3/5\n",
            "1875/1875 [==============================] - 7s 4ms/step - loss: 0.0385 - accuracy: 0.9882 - val_loss: 0.0385 - val_accuracy: 0.9883\n",
            "Epoch 4/5\n",
            "1875/1875 [==============================] - 7s 4ms/step - loss: 0.0303 - accuracy: 0.9908 - val_loss: 0.0367 - val_accuracy: 0.9884\n",
            "Epoch 5/5\n",
            "1875/1875 [==============================] - 7s 4ms/step - loss: 0.0250 - accuracy: 0.9919 - val_loss: 0.0378 - val_accuracy: 0.9884\n"
          ]
        },
        {
          "output_type": "execute_result",
          "data": {
            "text/plain": [
              "<keras.callbacks.History at 0x7f6cc0093ed0>"
            ]
          },
          "metadata": {},
          "execution_count": 5
        }
      ],
      "source": [
        "base_model = create_model()\n",
        "base_model.fit(\n",
        "    train_images,\n",
        "    train_labels,\n",
        "    epochs=5,\n",
        "    validation_data=(test_images, test_labels)\n",
        ")"
      ]
    },
    {
      "cell_type": "markdown",
      "metadata": {
        "id": "lEtLCGS0Ufag"
      },
      "source": [
        "# Check the accuracy drop\n",
        "\n"
      ]
    },
    {
      "cell_type": "code",
      "execution_count": null,
      "metadata": {
        "id": "xptCfTnBTgvm",
        "outputId": "896a9eaf-78ed-4874-b855-3be6a402e0df",
        "colab": {
          "base_uri": "https://localhost:8080/",
          "height": 589
        }
      },
      "outputs": [
        {
          "output_type": "display_data",
          "data": {
            "text/plain": [
              "<Figure size 720x720 with 25 Axes>"
            ],
            "image/png": "[encoded data removed]"
          },
          "metadata": {}
        }
      ],
      "source": [
        "# Show the first 25 images in the training dataset.\n",
        "plt.figure(figsize=(10,10))\n",
        "for i in range(25):\n",
        "  plt.subplot(5,5,i+1)\n",
        "  plt.xticks([])\n",
        "  plt.yticks([])\n",
        "  plt.grid(False)\n",
        "  plt.imshow(np.squeeze(train_images[i], axis=2), cmap=plt.cm.gray)\n",
        "  plt.xlabel(train_labels[i])\n",
        "plt.show()"
      ]
    },
    {
      "cell_type": "markdown",
      "source": [
        "## Make Histogram for how centered and aligned the data is"
      ],
      "metadata": {
        "id": "noDAY1nyogDM"
      }
    },
    {
      "cell_type": "code",
      "execution_count": null,
      "metadata": {
        "id": "2V0KsvSLVE6I",
        "outputId": "91e7bc8e-f2c8-4d97-b15a-d97041ac24aa",
        "colab": {
          "base_uri": "https://localhost:8080/",
          "height": 370
        }
      },
      "outputs": [
        {
          "output_type": "execute_result",
          "data": {
            "text/plain": [
              "array([[<matplotlib.axes._subplots.AxesSubplot object at 0x7f6c1f49e3d0>,\n",
              "        <matplotlib.axes._subplots.AxesSubplot object at 0x7f6c1f44e9d0>],\n",
              "       [<matplotlib.axes._subplots.AxesSubplot object at 0x7f6c1f3f9b10>,\n",
              "        <matplotlib.axes._subplots.AxesSubplot object at 0x7f6c1f3c8610>]],\n",
              "      dtype=object)"
            ]
          },
          "metadata": {},
          "execution_count": 7
        },
        {
          "output_type": "display_data",
          "data": {
            "text/plain": [
              "<Figure size 432x288 with 4 Axes>"
            ],
            "image/png": "[encoded data removed]"
          },
          "metadata": {
            "needs_background": "light"
          }
        }
      ],
      "source": [
        "def digit_area(mnist_image):\n",
        "  mnist_image = np.squeeze(mnist_image, axis=2)\n",
        "\n",
        "  # Extract the list of columns that contain at least 1 pixel from the digit\n",
        "  x_nonzero = np.nonzero(np.amax(mnist_image, 0))\n",
        "  x_min = np.min(x_nonzero)\n",
        "  x_max = np.max(x_nonzero)\n",
        "\n",
        "  # Extract the list of rows that contain at least 1 pixel from the digit\n",
        "  y_nonzero = np.nonzero(np.amax(mnist_image, 1))\n",
        "  y_min = np.min(y_nonzero)\n",
        "  y_max = np.max(y_nonzero)\n",
        "\n",
        "  return [x_min, x_max, y_min, y_max]\n",
        "\n",
        "digit_area_rows = []\n",
        "for image in train_images:\n",
        "  digit_area_row = digit_area(image)\n",
        "  digit_area_rows.append(digit_area_row)\n",
        "digit_area_df = pd.DataFrame(\n",
        "  digit_area_rows,\n",
        "  columns=['x_min', 'x_max', 'y_min', 'y_max']\n",
        ")\n",
        "digit_area_df.hist()"
      ]
    },
    {
      "cell_type": "markdown",
      "source": [
        "## Adjust the Alignment"
      ],
      "metadata": {
        "id": "Ffhocw1honQV"
      }
    },
    {
      "cell_type": "code",
      "execution_count": null,
      "metadata": {
        "id": "AC5l3W7bY1td"
      },
      "outputs": [],
      "source": [
        "# Define data augmentation\n",
        "datagen = keras.preprocessing.image.ImageDataGenerator(\n",
        "  rotation_range=30,\n",
        "  width_shift_range=0.25,\n",
        "  height_shift_range=0.25,\n",
        "  shear_range=0.25,\n",
        "  zoom_range=0.2\n",
        ")\n",
        "\n",
        "# Generate augmented data from MNIST dataset\n",
        "train_generator = datagen.flow(train_images, train_labels)\n",
        "test_generator = datagen.flow(test_images, test_labels)"
      ]
    },
    {
      "cell_type": "markdown",
      "metadata": {
        "id": "wy1IfuRZjjec"
      },
      "source": [
        "## Post alignment model data and accuracy"
      ]
    },
    {
      "cell_type": "code",
      "execution_count": null,
      "metadata": {
        "id": "1G-tWDc2aia1",
        "outputId": "0276c78b-5386-4e47-ff26-0e3afb135d18",
        "colab": {
          "base_uri": "https://localhost:8080/",
          "height": 589
        }
      },
      "outputs": [
        {
          "output_type": "display_data",
          "data": {
            "text/plain": [
              "<Figure size 720x720 with 25 Axes>"
            ],
            "image/png": "[encoded data removed]"
          },
          "metadata": {}
        }
      ],
      "source": [
        "augmented_images, augmented_labels = next(train_generator)\n",
        "plt.figure(figsize=(10,10))\n",
        "for i in range(25):\n",
        "    plt.subplot(5,5,i+1)\n",
        "    plt.xticks([])\n",
        "    plt.yticks([])\n",
        "    plt.grid(False)\n",
        "    plt.imshow(np.squeeze(augmented_images[i], axis=2), cmap=plt.cm.gray)\n",
        "    plt.xlabel('Label: %d' % augmented_labels[i])\n",
        "plt.show()"
      ]
    },
    {
      "cell_type": "code",
      "execution_count": null,
      "metadata": {
        "id": "IPnP4xPbjqWi",
        "outputId": "e9903892-d352-4f57-a86d-fc7a83801f0c",
        "colab": {
          "base_uri": "https://localhost:8080/"
        }
      },
      "outputs": [
        {
          "output_type": "stream",
          "name": "stdout",
          "text": [
            "313/313 [==============================] - 4s 12ms/step - loss: 5.5625 - accuracy: 0.3244\n"
          ]
        },
        {
          "output_type": "execute_result",
          "data": {
            "text/plain": [
              "[5.562522888183594, 0.32440000772476196]"
            ]
          },
          "metadata": {},
          "execution_count": 10
        }
      ],
      "source": [
        "base_model.evaluate(test_generator)"
      ]
    },
    {
      "cell_type": "markdown",
      "metadata": {
        "id": "AgNlTPPVlDqX"
      },
      "source": [
        "Accuracy drops to 40%"
      ]
    },
    {
      "cell_type": "markdown",
      "metadata": {
        "id": "Xls8oqBnlcZj"
      },
      "source": [
        "# Improve accuracy with data augmentation\n",
        "\n"
      ]
    },
    {
      "cell_type": "code",
      "execution_count": null,
      "metadata": {
        "id": "DX4XRgc9k-6s",
        "outputId": "2840d776-aa12-40fd-a378-27f40e1f7577",
        "colab": {
          "base_uri": "https://localhost:8080/"
        }
      },
      "outputs": [
        {
          "output_type": "stream",
          "name": "stdout",
          "text": [
            "Epoch 1/5\n",
            "1875/1875 [==============================] - 28s 15ms/step - loss: 0.9520 - accuracy: 0.6939 - val_loss: 0.4762 - val_accuracy: 0.8669\n",
            "Epoch 2/5\n",
            "1875/1875 [==============================] - 26s 14ms/step - loss: 0.4595 - accuracy: 0.8626 - val_loss: 0.3507 - val_accuracy: 0.8944\n",
            "Epoch 3/5\n",
            "1875/1875 [==============================] - 27s 14ms/step - loss: 0.3704 - accuracy: 0.8904 - val_loss: 0.2692 - val_accuracy: 0.9183\n",
            "Epoch 4/5\n",
            "1875/1875 [==============================] - 28s 15ms/step - loss: 0.3261 - accuracy: 0.9016 - val_loss: 0.2717 - val_accuracy: 0.9149\n",
            "Epoch 5/5\n",
            "1875/1875 [==============================] - 27s 14ms/step - loss: 0.3002 - accuracy: 0.9107 - val_loss: 0.2606 - val_accuracy: 0.9216\n"
          ]
        },
        {
          "output_type": "execute_result",
          "data": {
            "text/plain": [
              "<keras.callbacks.History at 0x7f6c54dcbf50>"
            ]
          },
          "metadata": {},
          "execution_count": 11
        }
      ],
      "source": [
        "improved_model = create_model()\n",
        "improved_model.fit(train_generator, epochs=5, validation_data=test_generator)"
      ]
    },
    {
      "cell_type": "markdown",
      "metadata": {
        "id": "fsI4mHtbpE_A"
      },
      "source": [
        "# Convert to TensorFlow Lite\n"
      ]
    },
    {
      "cell_type": "code",
      "execution_count": null,
      "metadata": {
        "id": "a0l6HcBTmh7-",
        "outputId": "9161438d-6b0c-4ee1-8c20-03fc46698bea",
        "colab": {
          "base_uri": "https://localhost:8080/",
          "height": 55
        }
      },
      "outputs": [
        {
          "output_type": "stream",
          "name": "stderr",
          "text": [
            "WARNING:absl:Found untraced functions such as _jit_compiled_convolution_op, _jit_compiled_convolution_op while saving (showing 2 of 2). These functions will not be directly callable after loading.\n"
          ]
        },
        {
          "output_type": "display_data",
          "data": {
            "text/plain": [
              "<IPython.core.display.Javascript object>"
            ],
            "application/javascript": [
              "\n",
              "    async function download(id, filename, size) {\n",
              "      if (!google.colab.kernel.accessAllowed) {\n",
              "        return;\n",
              "      }\n",
              "      const div = document.createElement('div');\n",
              "      const label = document.createElement('label');\n",
              "      label.textContent = `Downloading \"${filename}\": `;\n",
              "      div.appendChild(label);\n",
              "      const progress = document.createElement('progress');\n",
              "      progress.max = size;\n",
              "      div.appendChild(progress);\n",
              "      document.body.appendChild(div);\n",
              "\n",
              "      const buffers = [];\n",
              "      let downloaded = 0;\n",
              "\n",
              "      const channel = await google.colab.kernel.comms.open(id);\n",
              "      // Send a message to notify the kernel that we're ready.\n",
              "      channel.send({})\n",
              "\n",
              "      for await (const message of channel.messages) {\n",
              "        // Send a message to notify the kernel that we're ready.\n",
              "        channel.send({})\n",
              "        if (message.buffers) {\n",
              "          for (const buffer of message.buffers) {\n",
              "            buffers.push(buffer);\n",
              "            downloaded += buffer.byteLength;\n",
              "            progress.value = downloaded;\n",
              "          }\n",
              "        }\n",
              "      }\n",
              "      const blob = new Blob(buffers, {type: 'application/binary'});\n",
              "      const a = document.createElement('a');\n",
              "      a.href = window.URL.createObjectURL(blob);\n",
              "      a.download = filename;\n",
              "      div.appendChild(a);\n",
              "      a.click();\n",
              "      div.remove();\n",
              "    }\n",
              "  "
            ]
          },
          "metadata": {}
        },
        {
          "output_type": "display_data",
          "data": {
            "text/plain": [
              "<IPython.core.display.Javascript object>"
            ],
            "application/javascript": [
              "download(\"download_f956e2a1-2666-412a-9776-2e1765e03c81\", \"mnist.tflite\", 115824)"
            ]
          },
          "metadata": {}
        }
      ],
      "source": [
        "converter = tf.lite.TFLiteConverter.from_keras_model(improved_model)\n",
        "converter.optimizations = [tf.lite.Optimize.DEFAULT]\n",
        "tflite_quantized_model = converter.convert()\n",
        "\n",
        "f = open('mnist.tflite', \"wb\")\n",
        "f.write(tflite_quantized_model)\n",
        "f.close()\n",
        "\n",
        "from google.colab import files\n",
        "files.download('mnist.tflite')"
      ]
    }
  ],
  "metadata": {
    "accelerator": "GPU",
    "colab": {
      "collapsed_sections": [],
      "provenance": []
    },
    "kernelspec": {
      "display_name": "Python 3",
      "name": "python3"
    }
  },
  "nbformat": 4,
  "nbformat_minor": 0
}